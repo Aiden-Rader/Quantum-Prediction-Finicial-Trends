{
 "cells": [
  {
   "cell_type": "markdown",
   "metadata": {},
   "source": [
    "# AI Training Using Linear Regression\n",
    "====================================\n",
    "\n",
    "This notebook is used to train an AI model to predict the future price of a stock.\n",
    "The goal is to use this model to predict the future price of a stock and to use this data to train a machine learning model to predict the future price of a stock."
   ]
  },
  {
   "cell_type": "code",
   "execution_count": 2,
   "metadata": {},
   "outputs": [
    {
     "name": "stdout",
     "output_type": "stream",
     "text": [
      "All imports successful\n"
     ]
    }
   ],
   "source": [
    "import joblib\n",
    "import numpy as np\n",
    "import pandas as pd\n",
    "from sklearn.linear_model import LinearRegression\n",
    "from sklearn.preprocessing import MinMaxScaler\n",
    "from sklearn.model_selection import train_test_split\n",
    "\n",
    "print('All imports successful')"
   ]
  },
  {
   "cell_type": "markdown",
   "metadata": {},
   "source": [
    "### Set up the data and look at it to make sure its correct and organized well"
   ]
  },
  {
   "cell_type": "code",
   "execution_count": 3,
   "metadata": {},
   "outputs": [],
   "source": [
    "# Load the data\n",
    "data = pd.read_csv(\"dummy_data_cleaned.csv\")"
   ]
  },
  {
   "cell_type": "code",
   "execution_count": null,
   "metadata": {},
   "outputs": [
    {
     "name": "stdout",
     "output_type": "stream",
     "text": [
      "Min = 20.63808822631836, \n",
      "Max = 642.5139770507812\n"
     ]
    }
   ],
   "source": [
    "# Convert it to a pandas DataFrame and print the first 5 rows\n",
    "df = pd.DataFrame(data)\n",
    "df.head()\n",
    "\n",
    "# Check the min and max of the Close column for each Ticker, can also be done in data wrangler but eh idc <(＿　＿)>\n",
    "print(f\"Min = {df['Close'].min()}, \\nMax = {df['Close'].max()}\")\n"
   ]
  },
  {
   "cell_type": "code",
   "execution_count": null,
   "metadata": {},
   "outputs": [],
   "source": [
    "# Scale the data\n",
    "scaler = MinMaxScaler(feature_range=(0, 1))\n",
    "\n",
    "# Apply scaler only to numerical columns\n",
    "numeric_cols = [\"Open\", \"High\", \"Low\", \"Close\", \"Volume\"]\n",
    "df[numeric_cols] = scaler.fit_transform(df[numeric_cols])"
   ]
  },
  {
   "cell_type": "code",
   "execution_count": 21,
   "metadata": {},
   "outputs": [],
   "source": [
    "# Create the sequences for the past 5 days\n",
    "def create_sequences(group, seq_length=5):\n",
    "\tX, y = [], []\n",
    "\tfor i in range(len(group) - seq_length):\n",
    "\t\tX.append(group[i:i + seq_length].flatten())\n",
    "\t\ty.append(group[i + seq_length][-1])  # Predict next day's Close\n",
    "\treturn np.array(X), np.array(y)"
   ]
  },
  {
   "cell_type": "code",
   "execution_count": 22,
   "metadata": {},
   "outputs": [],
   "source": [
    "X, y = [], []\n",
    "for symbol, group in df.groupby(\"Ticker\"):\n",
    "\tgroup_data = group[[\"Open\", \"High\", \"Low\", \"Close\", \"Volume\"]].values\n",
    "\tX_seq, y_seq = create_sequences(group_data)\n",
    "\tX.extend(X_seq)\n",
    "\ty.extend(y_seq)\n",
    "\n",
    "X, y = np.array(X), np.array(y)"
   ]
  },
  {
   "cell_type": "code",
   "execution_count": 23,
   "metadata": {},
   "outputs": [],
   "source": [
    "# Use sklearns train_test_split to split the data into training and testing sets\n",
    "\n",
    "# Split the data 80% training and 20% testing\n",
    "X_train, X_test, y_train, y_test = train_test_split(X, y, test_size=0.2, random_state=42)"
   ]
  },
  {
   "cell_type": "markdown",
   "metadata": {},
   "source": [
    "### Here we train the model and determine the R^2 score\n",
    "\n",
    "**REMEMBER:**\n",
    "\n",
    "R² Score Range:\n",
    "* 1.0 → Perfect fit (ideal but rare)\n",
    "* 0.0 → No predictive power (as good as predicting the mean)\n",
    "* Negative → Worse than a random guess (bad model!)"
   ]
  },
  {
   "cell_type": "code",
   "execution_count": 24,
   "metadata": {},
   "outputs": [
    {
     "name": "stdout",
     "output_type": "stream",
     "text": [
      "Train R² Score: 0.8804\n",
      "Test R² Score: 0.9356\n"
     ]
    }
   ],
   "source": [
    "# Train the model and evaluate the modals R^2 score\n",
    "model = LinearRegression()\n",
    "model.fit(X_train, y_train)\n",
    "\n",
    "train_score = model.score(X_train, y_train)\n",
    "test_score = model.score(X_test, y_test)\n",
    "print(f\"Train R² Score: {train_score:.4f}\")\n",
    "print(f\"Test R² Score: {test_score:.4f}\")"
   ]
  },
  {
   "cell_type": "code",
   "execution_count": 25,
   "metadata": {},
   "outputs": [
    {
     "name": "stdout",
     "output_type": "stream",
     "text": [
      "Stock Linear Regression Model Trained and Saved!\n"
     ]
    }
   ],
   "source": [
    "# Finally dump the model to a joblib file\n",
    "joblib.dump(model, \"stock_model.pkl\")\n",
    "joblib.dump(scaler, \"scaler.pkl\")\n",
    "\n",
    "print(\"Stock Linear Regression Model Trained and Saved!\")"
   ]
  }
 ],
 "metadata": {
  "kernelspec": {
   "display_name": "Python 3",
   "language": "python",
   "name": "python3"
  },
  "language_info": {
   "codemirror_mode": {
    "name": "ipython",
    "version": 3
   },
   "file_extension": ".py",
   "mimetype": "text/x-python",
   "name": "python",
   "nbconvert_exporter": "python",
   "pygments_lexer": "ipython3",
   "version": "3.12.4"
  }
 },
 "nbformat": 4,
 "nbformat_minor": 2
}
