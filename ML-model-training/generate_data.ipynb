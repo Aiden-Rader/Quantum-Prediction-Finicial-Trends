{
 "cells": [
  {
   "cell_type": "markdown",
   "metadata": {},
   "source": [
    "# Generating Data for ML Model Training\n",
    "\n",
    "This notebook is used to generate  data to train the Machine Learning (ML) model for my Quantum Prediction Finicial Trends project. The goal is to use this data to train the ML model to predict the future price of a stock.\n",
    "This is a file to create fake data for the ML model training for my Quantum Prediction Finicial Trends project. I will use this data to train the ML model to predict the future price of a stock.\n",
    "\n",
    "* This file will use yfinance isntead of random numbers since I want to use real data to train the ML model.\n"
   ]
  },
  {
   "cell_type": "code",
   "execution_count": 2,
   "metadata": {},
   "outputs": [
    {
     "name": "stdout",
     "output_type": "stream",
     "text": [
      "all imports successful\n"
     ]
    }
   ],
   "source": [
    "# Import nessacary libraries\n",
    "import pandas as pd\n",
    "import yfinance as yf\n",
    "\n",
    "print('all imports successful')"
   ]
  },
  {
   "cell_type": "code",
   "execution_count": 3,
   "metadata": {},
   "outputs": [
    {
     "name": "stdout",
     "output_type": "stream",
     "text": [
      "Fetching data for AAPL...\n",
      "YF.download() has changed argument auto_adjust default to True\n"
     ]
    },
    {
     "name": "stderr",
     "output_type": "stream",
     "text": [
      "[*********************100%***********************]  1 of 1 completed\n",
      "[*********************100%***********************]  1 of 1 completed"
     ]
    },
    {
     "name": "stdout",
     "output_type": "stream",
     "text": [
      "Fetching data for MSFT...\n"
     ]
    },
    {
     "name": "stderr",
     "output_type": "stream",
     "text": [
      "\n",
      "[*********************100%***********************]  1 of 1 completed"
     ]
    },
    {
     "name": "stdout",
     "output_type": "stream",
     "text": [
      "Fetching data for NVDA...\n"
     ]
    },
    {
     "name": "stderr",
     "output_type": "stream",
     "text": [
      "\n",
      "[*********************100%***********************]  1 of 1 completed\n"
     ]
    },
    {
     "name": "stdout",
     "output_type": "stream",
     "text": [
      "Fetching data for TSLA...\n",
      "Fetching data for JPM...\n"
     ]
    },
    {
     "name": "stderr",
     "output_type": "stream",
     "text": [
      "[*********************100%***********************]  1 of 1 completed\n",
      "[*********************100%***********************]  1 of 1 completed\n"
     ]
    },
    {
     "name": "stdout",
     "output_type": "stream",
     "text": [
      "Fetching data for GS...\n",
      "Fetching data for XOM...\n"
     ]
    },
    {
     "name": "stderr",
     "output_type": "stream",
     "text": [
      "[*********************100%***********************]  1 of 1 completed\n",
      "[*********************100%***********************]  1 of 1 completed\n"
     ]
    },
    {
     "name": "stdout",
     "output_type": "stream",
     "text": [
      "Fetching data for AMZN...\n",
      "Fetching data for WMT...\n"
     ]
    },
    {
     "name": "stderr",
     "output_type": "stream",
     "text": [
      "[*********************100%***********************]  1 of 1 completed\n"
     ]
    }
   ],
   "source": [
    "# Generate my fake data and save it to a json file\n",
    "symbols = [\"AAPL\", \"MSFT\", \"NVDA\", \"TSLA\", \"JPM\", \"GS\", \"XOM\", \"AMZN\", \"WMT\"]\n",
    "\n",
    "start_date = \"2023-02-05\"\n",
    "end_date = \"2025-02-05\"\n",
    "\n",
    "data = []\n",
    "\n",
    "for symbol in symbols:\n",
    "\tprint(f\"Fetching data for {symbol}...\")\n",
    "\tstock_data = yf.download(symbol, start=start_date, end=end_date, interval=\"1d\")\n",
    "\n",
    "\t# Keep only relevant columns and add a stock identifier\n",
    "\tstock_data[\"Symbol\"] = symbol\n",
    "\tstock_data = stock_data[['Symbol', 'Open', 'High', 'Low', 'Close', 'Volume']]\n",
    "\n",
    "\t# Append to list\n",
    "\tdata.append(stock_data)"
   ]
  },
  {
   "cell_type": "code",
   "execution_count": null,
   "metadata": {},
   "outputs": [
    {
     "name": "stdout",
     "output_type": "stream",
     "text": [
      "        Date Ticker       Close        High         Low        Open  \\\n",
      "0 2023-02-06   AAPL  149.986115  151.340379  149.047036  150.816472   \n",
      "1 2023-02-06   AMZN      102.18  103.949997  100.650002      102.93   \n",
      "2 2023-02-06     GS  349.177063  349.610259  344.449811   347.48204   \n",
      "3 2023-02-06    JPM  134.895477  135.199645  133.099026  133.289124   \n",
      "4 2023-02-06   MSFT  252.118607  253.620889  250.164665  252.776483   \n",
      "\n",
      "       Volume  \n",
      "0  69858300.0  \n",
      "1  81945200.0  \n",
      "2   1816200.0  \n",
      "3   8406200.0  \n",
      "4  22518000.0  \n"
     ]
    }
   ],
   "source": [
    "# Screw around with looking at the data to see what I can do\n",
    "df = pd.concat(data, axis=0)\n",
    "df.reset_index(inplace=True)\n",
    "df.columns = ['_'.join(col).strip() if col[1] else col[0] for col in df.columns]  # flatten column names and remove duplicates columns\n",
    "df_melted = df.melt(id_vars=[\"Date\"], var_name=\"Metric_Ticker\", value_name=\"Value\")\n",
    "df_melted[[\"Metric\", \"Ticker\"]] = df_melted[\"Metric_Ticker\"].str.split(\"_\", expand=True)\n",
    "df_melted.drop(columns=[\"Metric_Ticker\"], inplace=True)  # Drop the original column that we used to split the data\n",
    "\n",
    "df_final = df_melted.pivot_table(index=[\"Date\", \"Ticker\"], columns=\"Metric\", values=\"Value\").reset_index()\n",
    "df_final.columns.name = None\n",
    "\n",
    "\n",
    "print(df_final.head())"
   ]
  },
  {
   "cell_type": "markdown",
   "metadata": {},
   "source": [
    "### Output: a json file called \"dummy_data_cleaned.csv\""
   ]
  },
  {
   "cell_type": "code",
   "execution_count": 15,
   "metadata": {},
   "outputs": [],
   "source": [
    "df_final.to_csv(\"dummy_data_cleaned.csv\", index=False)"
   ]
  }
 ],
 "metadata": {
  "kernelspec": {
   "display_name": "Python 3",
   "language": "python",
   "name": "python3"
  },
  "language_info": {
   "codemirror_mode": {
    "name": "ipython",
    "version": 3
   },
   "file_extension": ".py",
   "mimetype": "text/x-python",
   "name": "python",
   "nbconvert_exporter": "python",
   "pygments_lexer": "ipython3",
   "version": "3.12.4"
  }
 },
 "nbformat": 4,
 "nbformat_minor": 2
}
